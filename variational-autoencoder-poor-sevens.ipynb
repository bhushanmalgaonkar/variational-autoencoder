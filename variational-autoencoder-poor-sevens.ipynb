{
  "nbformat": 4,
  "nbformat_minor": 0,
  "metadata": {
    "colab": {
      "name": "variational-autoencoder-poor-sevens.ipynb",
      "version": "0.3.2",
      "provenance": []
    },
    "language_info": {
      "codemirror_mode": {
        "name": "ipython",
        "version": 3
      },
      "file_extension": ".py",
      "mimetype": "text/x-python",
      "name": "python",
      "nbconvert_exporter": "python",
      "pygments_lexer": "ipython3",
      "version": "3.6.4"
    },
    "kernelspec": {
      "name": "python3",
      "display_name": "Python 3"
    },
    "accelerator": "GPU"
  },
  "cells": [
    {
      "metadata": {
        "id": "m4_NSzYW9wWp",
        "colab_type": "code",
        "outputId": "e5da129d-be56-47e7-eaed-e97e8527b164",
        "colab": {
          "base_uri": "https://localhost:8080/",
          "height": 34
        }
      },
      "cell_type": "code",
      "source": [
        "from google.colab import drive\n",
        "drive.mount('/content/drive', force_remount=True)"
      ],
      "execution_count": 2,
      "outputs": [
        {
          "output_type": "stream",
          "text": [
            "Mounted at /content/drive\n"
          ],
          "name": "stdout"
        }
      ]
    },
    {
      "metadata": {
        "id": "HPi1RTgCANxK",
        "colab_type": "code",
        "colab": {}
      },
      "cell_type": "code",
      "source": [
        "import pickle\n",
        "import math"
      ],
      "execution_count": 0,
      "outputs": []
    },
    {
      "metadata": {
        "id": "oNhdB6PXAOia",
        "colab_type": "code",
        "colab": {}
      },
      "cell_type": "code",
      "source": [
        "import numpy as np\n",
        "import tensorflow as tf\n",
        "import matplotlib.pyplot as plt\n",
        "%matplotlib inline"
      ],
      "execution_count": 0,
      "outputs": []
    },
    {
      "metadata": {
        "id": "GzhH1fi9-QOp",
        "colab_type": "code",
        "colab": {}
      },
      "cell_type": "code",
      "source": [
        "base_path = './drive/My Drive/Colab Notebooks/hw4/variational-autoencoder/'\n",
        "train_path = base_path + 'hw4_tr7.pkl'\n",
        "test_path = base_path + 'hw4_te7.pkl'\n",
        "\n",
        "base_path_model = base_path + 'model/'"
      ],
      "execution_count": 0,
      "outputs": []
    },
    {
      "metadata": {
        "id": "qcfMdGK6-uLo",
        "colab_type": "code",
        "colab": {}
      },
      "cell_type": "code",
      "source": [
        "with open(train_path, 'rb') as f:\n",
        "  train = pickle.load(f)\n",
        "\n",
        "with open(test_path, 'rb') as f:\n",
        "  test = pickle.load(f)"
      ],
      "execution_count": 0,
      "outputs": []
    },
    {
      "metadata": {
        "id": "ayzxfoIXAIp9",
        "colab_type": "code",
        "outputId": "a005f294-407e-49c4-d540-e9aa4dd0173e",
        "colab": {
          "base_uri": "https://localhost:8080/",
          "height": 34
        }
      },
      "cell_type": "code",
      "source": [
        "train.shape"
      ],
      "execution_count": 7,
      "outputs": [
        {
          "output_type": "execute_result",
          "data": {
            "text/plain": [
              "(6265, 28, 28)"
            ]
          },
          "metadata": {
            "tags": []
          },
          "execution_count": 7
        }
      ]
    },
    {
      "metadata": {
        "id": "K7lrN_RHASdO",
        "colab_type": "code",
        "outputId": "d26608b9-4141-42b9-dfc5-18406354d962",
        "colab": {
          "base_uri": "https://localhost:8080/",
          "height": 34
        }
      },
      "cell_type": "code",
      "source": [
        "test.shape"
      ],
      "execution_count": 8,
      "outputs": [
        {
          "output_type": "execute_result",
          "data": {
            "text/plain": [
              "(1028, 28, 28)"
            ]
          },
          "metadata": {
            "tags": []
          },
          "execution_count": 8
        }
      ]
    },
    {
      "metadata": {
        "id": "uJwiICPxATRT",
        "colab_type": "code",
        "outputId": "8bfdf47a-d5c5-43b5-942a-da7fe7d1e8df",
        "colab": {
          "base_uri": "https://localhost:8080/",
          "height": 582
        }
      },
      "cell_type": "code",
      "source": [
        "plt.figure(figsize=(10, 10))\n",
        "for i in range(5):\n",
        "  for j in range(5):\n",
        "    ax = plt.subplot(5, 5, 5 * i + j + 1)\n",
        "    plt.imshow(train[np.random.randint(0, train.shape[0])])\n",
        "    ax.set_xticklabels([])\n",
        "    ax.set_yticklabels([])\n",
        "    ax.set_xticks([])\n",
        "    ax.set_yticks([])"
      ],
      "execution_count": 9,
      "outputs": [
        {
          "output_type": "display_data",
          "data": {
            "image/png": "[encoded data removed]",
            "text/plain": [
              "<Figure size 720x720 with 25 Axes>"
            ]
          },
          "metadata": {
            "tags": []
          }
        }
      ]
    },
    {
      "metadata": {
        "id": "P7BHe6TYAdKJ",
        "colab_type": "code",
        "colab": {}
      },
      "cell_type": "code",
      "source": [
        "n_gaussians = 5\n",
        "\n",
        "def encoder(X):\n",
        "  conv_1 = tf.layers.Conv2D(filters=8, kernel_size=(3, 3), strides=(1, 1), activation=tf.nn.relu)(X)\n",
        "  pool_1 = tf.layers.MaxPooling2D(pool_size=(2, 2), strides=(1, 1))(conv_1)\n",
        "  bn_1 = tf.layers.BatchNormalization()(pool_1)\n",
        "  \n",
        "  dropout_1 = tf.layers.Dropout(rate=0.4)(bn_1)\n",
        "  \n",
        "  flattened = tf.layers.Flatten()(dropout_1)\n",
        "  mu = tf.layers.Dense(units=n_gaussians * 2)"
      ],
      "execution_count": 0,
      "outputs": []
    },
    {
      "metadata": {
        "id": "vc-9XPX6mr6k",
        "colab_type": "code",
        "colab": {}
      },
      "cell_type": "code",
      "source": [
        "X = tf.placeholder(dtype='float', shape=[None, 28, 28, 1], name='X')\n",
        "Y = tf.placeholder(dtype='float', shape=[None, 28, 28, 1], name='Y')"
      ],
      "execution_count": 0,
      "outputs": []
    },
    {
      "metadata": {
        "id": "hSw408aYviQS",
        "colab_type": "code",
        "colab": {}
      },
      "cell_type": "code",
      "source": [
        "n_gaussians = 5\n",
        "\n",
        "conv_1 = tf.layers.Conv2D(filters=8, kernel_size=(4, 4), strides=(2, 2), activation=tf.nn.relu, padding='same')(X)\n",
        "# pool_1 = tf.layers.MaxPooling2D(pool_size=(2, 2), strides=(2, 2))(conv_1)\n",
        "# bn_1 = tf.layers.BatchNormalization()(conv_1)\n",
        "\n",
        "conv_2 = tf.layers.Conv2D(filters=8, kernel_size=(4, 4), strides=(2, 2), activation=tf.nn.relu, padding='same')(conv_1)\n",
        "# pool_2 = tf.layers.MaxPooling2D(pool_size=(2, 2), strides=(2, 2))(conv_2)\n",
        "# bn_2 = tf.layers.BatchNormalization()(conv_2)\n",
        "\n",
        "conv_3 = tf.layers.Conv2D(filters=8, kernel_size=(3, 3), strides=(2, 2), activation=tf.nn.relu, padding='same')(conv_2)\n",
        "# pool_3 = tf.layers.MaxPooling2D(pool_size=(2, 2), strides=(2, 2))(conv_3)\n",
        "# bn_3 = tf.layers.BatchNormalization()(conv_3)\n",
        "\n",
        "dropout_1 = tf.layers.Dropout(rate=0.4)(conv_3)\n",
        "\n",
        "flattened = tf.layers.Flatten()(dropout_1)\n",
        "dense_1 = tf.layers.Dense(units=n_gaussians * 2)(flattened)\n",
        "\n",
        "# use first half as mu\n",
        "mu = dense_1[:, :n_gaussians]\n",
        "\n",
        "# use 2nd half as std, standard deviation has to be positive\n",
        "std = tf.nn.softplus(dense_1[:, n_gaussians:])"
      ],
      "execution_count": 0,
      "outputs": []
    },
    {
      "metadata": {
        "id": "yA0Xb0OQ6rim",
        "colab_type": "code",
        "colab": {
          "base_uri": "https://localhost:8080/",
          "height": 34
        },
        "outputId": "3d4fd081-0917-48f7-d9d6-dd2640e5cddf"
      },
      "cell_type": "code",
      "source": [
        "flattened"
      ],
      "execution_count": 84,
      "outputs": [
        {
          "output_type": "execute_result",
          "data": {
            "text/plain": [
              "<tf.Tensor 'flatten_14/Reshape:0' shape=(?, 128) dtype=float32>"
            ]
          },
          "metadata": {
            "tags": []
          },
          "execution_count": 84
        }
      ]
    },
    {
      "metadata": {
        "id": "NuM09I5K9M9r",
        "colab_type": "code",
        "colab": {
          "base_uri": "https://localhost:8080/",
          "height": 68
        },
        "outputId": "f9491842-4400-45db-fa67-a221d029b24a"
      },
      "cell_type": "code",
      "source": [
        "print(conv_1)\n",
        "print(conv_2)\n",
        "print(conv_3)"
      ],
      "execution_count": 85,
      "outputs": [
        {
          "output_type": "stream",
          "text": [
            "Tensor(\"conv2d_32/Relu:0\", shape=(?, 14, 14, 8), dtype=float32)\n",
            "Tensor(\"conv2d_33/Relu:0\", shape=(?, 7, 7, 8), dtype=float32)\n",
            "Tensor(\"conv2d_34/Relu:0\", shape=(?, 4, 4, 8), dtype=float32)\n"
          ],
          "name": "stdout"
        }
      ]
    },
    {
      "metadata": {
        "id": "vWGW4cRHwIvs",
        "colab_type": "code",
        "colab": {
          "base_uri": "https://localhost:8080/",
          "height": 34
        },
        "outputId": "49b5b538-3974-4f92-fe2f-220164537fcd"
      },
      "cell_type": "code",
      "source": [
        "mu"
      ],
      "execution_count": 86,
      "outputs": [
        {
          "output_type": "execute_result",
          "data": {
            "text/plain": [
              "<tf.Tensor 'strided_slice_18:0' shape=(?, 5) dtype=float32>"
            ]
          },
          "metadata": {
            "tags": []
          },
          "execution_count": 86
        }
      ]
    },
    {
      "metadata": {
        "id": "bW0wSSe1wOwS",
        "colab_type": "code",
        "colab": {
          "base_uri": "https://localhost:8080/",
          "height": 34
        },
        "outputId": "d7f0611a-2808-46d0-f741-8cbfb612466a"
      },
      "cell_type": "code",
      "source": [
        "std"
      ],
      "execution_count": 87,
      "outputs": [
        {
          "output_type": "execute_result",
          "data": {
            "text/plain": [
              "<tf.Tensor 'Softplus_9:0' shape=(?, 5) dtype=float32>"
            ]
          },
          "metadata": {
            "tags": []
          },
          "execution_count": 87
        }
      ]
    },
    {
      "metadata": {
        "id": "1_0IruDq1bWU",
        "colab_type": "code",
        "colab": {}
      },
      "cell_type": "code",
      "source": [
        "# take sample\n",
        "z = mu + std * tf.random.normal(tf.shape(mu))"
      ],
      "execution_count": 0,
      "outputs": []
    },
    {
      "metadata": {
        "id": "A4D3RNIV5xH-",
        "colab_type": "code",
        "colab": {
          "base_uri": "https://localhost:8080/",
          "height": 34
        },
        "outputId": "3ec7b08c-8508-467c-b5c8-25169d06f990"
      },
      "cell_type": "code",
      "source": [
        "z"
      ],
      "execution_count": 89,
      "outputs": [
        {
          "output_type": "execute_result",
          "data": {
            "text/plain": [
              "<tf.Tensor 'add_3:0' shape=(?, 5) dtype=float32>"
            ]
          },
          "metadata": {
            "tags": []
          },
          "execution_count": 89
        }
      ]
    },
    {
      "metadata": {
        "id": "T_RVAT4K52_C",
        "colab_type": "code",
        "colab": {
          "base_uri": "https://localhost:8080/",
          "height": 34
        },
        "outputId": "2db34f67-68a2-4bbe-b2df-fc49eb7a88f2"
      },
      "cell_type": "code",
      "source": [
        "dense_2 = tf.layers.Dense(units=n_gaussians * 2, activation=tf.nn.relu)(z)\n",
        "dense_2"
      ],
      "execution_count": 90,
      "outputs": [
        {
          "output_type": "execute_result",
          "data": {
            "text/plain": [
              "<tf.Tensor 'dense_13/Relu:0' shape=(?, 10) dtype=float32>"
            ]
          },
          "metadata": {
            "tags": []
          },
          "execution_count": 90
        }
      ]
    },
    {
      "metadata": {
        "id": "OdxvLnyj_Yye",
        "colab_type": "code",
        "colab": {
          "base_uri": "https://localhost:8080/",
          "height": 34
        },
        "outputId": "97ea0e0b-9a96-4b2a-caa6-5e3950ab8c3a"
      },
      "cell_type": "code",
      "source": [
        "dense_3 = tf.layers.Dense(units=3 * 3 * 8, activation=tf.nn.relu)(dense_2)\n",
        "dense_3"
      ],
      "execution_count": 91,
      "outputs": [
        {
          "output_type": "execute_result",
          "data": {
            "text/plain": [
              "<tf.Tensor 'dense_14/Relu:0' shape=(?, 72) dtype=float32>"
            ]
          },
          "metadata": {
            "tags": []
          },
          "execution_count": 91
        }
      ]
    },
    {
      "metadata": {
        "id": "fFsyUsey_hIZ",
        "colab_type": "code",
        "colab": {
          "base_uri": "https://localhost:8080/",
          "height": 34
        },
        "outputId": "bc6f9ba8-348f-4ed1-9cf5-257cd0b8f166"
      },
      "cell_type": "code",
      "source": [
        "reshaped = tf.reshape(dense_3, [-1, 3, 3, 8])\n",
        "reshaped"
      ],
      "execution_count": 103,
      "outputs": [
        {
          "output_type": "execute_result",
          "data": {
            "text/plain": [
              "<tf.Tensor 'Reshape_4:0' shape=(?, 3, 3, 8) dtype=float32>"
            ]
          },
          "metadata": {
            "tags": []
          },
          "execution_count": 103
        }
      ]
    },
    {
      "metadata": {
        "id": "ey6Wzw7w_v67",
        "colab_type": "code",
        "colab": {
          "base_uri": "https://localhost:8080/",
          "height": 34
        },
        "outputId": "b3bf4496-7960-4863-8f76-535d908b6735"
      },
      "cell_type": "code",
      "source": [
        "dconv_1 = tf.layers.Conv2DTranspose(filters=8, kernel_size=(3, 3), strides=(2, 2), activation=tf.nn.relu, padding='same')(reshaped)\n",
        "dconv_1"
      ],
      "execution_count": 104,
      "outputs": [
        {
          "output_type": "execute_result",
          "data": {
            "text/plain": [
              "<tf.Tensor 'conv2d_transpose_15/Relu:0' shape=(?, 6, 6, 8) dtype=float32>"
            ]
          },
          "metadata": {
            "tags": []
          },
          "execution_count": 104
        }
      ]
    },
    {
      "metadata": {
        "id": "c4aiGRbuAIBT",
        "colab_type": "code",
        "colab": {
          "base_uri": "https://localhost:8080/",
          "height": 34
        },
        "outputId": "a4b987be-eeb0-48a2-a370-875d6eb2050c"
      },
      "cell_type": "code",
      "source": [
        "dconv_2 = tf.layers.Conv2DTranspose(filters=8, kernel_size=(4, 4), strides=(2, 2), activation=tf.nn.relu, padding='same')(dconv_1)\n",
        "dconv_2"
      ],
      "execution_count": 105,
      "outputs": [
        {
          "output_type": "execute_result",
          "data": {
            "text/plain": [
              "<tf.Tensor 'conv2d_transpose_16/Relu:0' shape=(?, 12, 12, 8) dtype=float32>"
            ]
          },
          "metadata": {
            "tags": []
          },
          "execution_count": 105
        }
      ]
    },
    {
      "metadata": {
        "id": "JKuCXf6fBOmQ",
        "colab_type": "code",
        "colab": {
          "base_uri": "https://localhost:8080/",
          "height": 34
        },
        "outputId": "662ab6b9-6344-4c94-8b27-ccaa88b76b72"
      },
      "cell_type": "code",
      "source": [
        "flattened_2 = tf.layers.Flatten()(dconv_2)\n",
        "flattened_2"
      ],
      "execution_count": 106,
      "outputs": [
        {
          "output_type": "execute_result",
          "data": {
            "text/plain": [
              "<tf.Tensor 'flatten_17/Reshape:0' shape=(?, 1152) dtype=float32>"
            ]
          },
          "metadata": {
            "tags": []
          },
          "execution_count": 106
        }
      ]
    },
    {
      "metadata": {
        "id": "dp6LXpAxBelW",
        "colab_type": "code",
        "colab": {
          "base_uri": "https://localhost:8080/",
          "height": 34
        },
        "outputId": "3a06ffd4-51e1-4e0a-f90e-09d5ae8bea9d"
      },
      "cell_type": "code",
      "source": [
        "dense_4 = tf.layers.Dense(units=28 * 28, activation=tf.nn.relu)(flattened)\n",
        "dense_4"
      ],
      "execution_count": 107,
      "outputs": [
        {
          "output_type": "execute_result",
          "data": {
            "text/plain": [
              "<tf.Tensor 'dense_15/Relu:0' shape=(?, 784) dtype=float32>"
            ]
          },
          "metadata": {
            "tags": []
          },
          "execution_count": 107
        }
      ]
    },
    {
      "metadata": {
        "id": "hEpVvgcWBwmQ",
        "colab_type": "code",
        "colab": {
          "base_uri": "https://localhost:8080/",
          "height": 34
        },
        "outputId": "b7d6730d-dd18-4008-e2e9-61872418c288"
      },
      "cell_type": "code",
      "source": [
        "output = tf.reshape(dense_4, [-1, 28, 28, 1])\n",
        "output"
      ],
      "execution_count": 109,
      "outputs": [
        {
          "output_type": "execute_result",
          "data": {
            "text/plain": [
              "<tf.Tensor 'Reshape_6:0' shape=(?, 28, 28, 1) dtype=float32>"
            ]
          },
          "metadata": {
            "tags": []
          },
          "execution_count": 109
        }
      ]
    },
    {
      "metadata": {
        "id": "GTCUk95OB5Ox",
        "colab_type": "code",
        "colab": {}
      },
      "cell_type": "code",
      "source": [
        ""
      ],
      "execution_count": 0,
      "outputs": []
    }
  ]
}