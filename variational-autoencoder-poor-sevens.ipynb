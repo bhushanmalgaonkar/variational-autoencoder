{
  "nbformat": 4,
  "nbformat_minor": 0,
  "metadata": {
    "colab": {
      "name": "variational-autoencoder-poor-sevens.ipynb",
      "version": "0.3.2",
      "provenance": []
    },
    "language_info": {
      "codemirror_mode": {
        "name": "ipython",
        "version": 3
      },
      "file_extension": ".py",
      "mimetype": "text/x-python",
      "name": "python",
      "nbconvert_exporter": "python",
      "pygments_lexer": "ipython3",
      "version": "3.6.4"
    },
    "kernelspec": {
      "name": "python3",
      "display_name": "Python 3"
    },
    "accelerator": "GPU"
  },
  "cells": [
    {
      "metadata": {
        "id": "m4_NSzYW9wWp",
        "colab_type": "code",
        "outputId": "eb7b1ba1-d370-4501-a978-f7b68076efc6",
        "colab": {
          "base_uri": "https://localhost:8080/",
          "height": 34
        }
      },
      "cell_type": "code",
      "source": [
        "from google.colab import drive\n",
        "drive.mount('/content/drive', force_remount=True)"
      ],
      "execution_count": 1,
      "outputs": [
        {
          "output_type": "stream",
          "text": [
            "Mounted at /content/drive\n"
          ],
          "name": "stdout"
        }
      ]
    },
    {
      "metadata": {
        "id": "HPi1RTgCANxK",
        "colab_type": "code",
        "colab": {}
      },
      "cell_type": "code",
      "source": [
        "import pickle\n",
        "import math"
      ],
      "execution_count": 0,
      "outputs": []
    },
    {
      "metadata": {
        "id": "oNhdB6PXAOia",
        "colab_type": "code",
        "colab": {}
      },
      "cell_type": "code",
      "source": [
        "import numpy as np\n",
        "import tensorflow as tf\n",
        "import matplotlib.pyplot as plt\n",
        "%matplotlib inline"
      ],
      "execution_count": 0,
      "outputs": []
    },
    {
      "metadata": {
        "id": "GzhH1fi9-QOp",
        "colab_type": "code",
        "colab": {}
      },
      "cell_type": "code",
      "source": [
        "base_path = './drive/My Drive/Colab Notebooks/hw4/variational-autoencoder/'\n",
        "train_path = base_path + 'hw4_tr7.pkl'\n",
        "test_path = base_path + 'hw4_te7.pkl'\n",
        "\n",
        "base_path_model = base_path + 'model/'"
      ],
      "execution_count": 0,
      "outputs": []
    },
    {
      "metadata": {
        "id": "qcfMdGK6-uLo",
        "colab_type": "code",
        "colab": {}
      },
      "cell_type": "code",
      "source": [
        "with open(train_path, 'rb') as f:\n",
        "  train = pickle.load(f)\n",
        "\n",
        "with open(test_path, 'rb') as f:\n",
        "  test = pickle.load(f)"
      ],
      "execution_count": 0,
      "outputs": []
    },
    {
      "metadata": {
        "id": "ayzxfoIXAIp9",
        "colab_type": "code",
        "outputId": "ef89bf6a-3900-4c67-b7ec-2ea60d7b1799",
        "colab": {
          "base_uri": "https://localhost:8080/",
          "height": 34
        }
      },
      "cell_type": "code",
      "source": [
        "train.shape"
      ],
      "execution_count": 6,
      "outputs": [
        {
          "output_type": "execute_result",
          "data": {
            "text/plain": [
              "(6265, 28, 28)"
            ]
          },
          "metadata": {
            "tags": []
          },
          "execution_count": 6
        }
      ]
    },
    {
      "metadata": {
        "id": "K7lrN_RHASdO",
        "colab_type": "code",
        "outputId": "f5832d18-036f-494e-b17b-1a3eeffce4d1",
        "colab": {
          "base_uri": "https://localhost:8080/",
          "height": 34
        }
      },
      "cell_type": "code",
      "source": [
        "test.shape"
      ],
      "execution_count": 7,
      "outputs": [
        {
          "output_type": "execute_result",
          "data": {
            "text/plain": [
              "(1028, 28, 28)"
            ]
          },
          "metadata": {
            "tags": []
          },
          "execution_count": 7
        }
      ]
    },
    {
      "metadata": {
        "id": "uJwiICPxATRT",
        "colab_type": "code",
        "outputId": "6507ba0c-798b-4ac6-c5d9-75f9802560d1",
        "colab": {
          "base_uri": "https://localhost:8080/",
          "height": 582
        }
      },
      "cell_type": "code",
      "source": [
        "plt.figure(figsize=(10, 10))\n",
        "for i in range(5):\n",
        "  for j in range(5):\n",
        "    ax = plt.subplot(5, 5, 5 * i + j + 1)\n",
        "    plt.imshow(train[np.random.randint(0, train.shape[0])])\n",
        "    ax.set_xticklabels([])\n",
        "    ax.set_yticklabels([])\n",
        "    ax.set_xticks([])\n",
        "    ax.set_yticks([])"
      ],
      "execution_count": 8,
      "outputs": [
        {
          "output_type": "display_data",
          "data": {
            "image/png": "[encoded data removed]",
            "text/plain": [
              "<Figure size 720x720 with 25 Axes>"
            ]
          },
          "metadata": {
            "tags": []
          }
        }
      ]
    },
    {
      "metadata": {
        "id": "vc-9XPX6mr6k",
        "colab_type": "code",
        "colab": {}
      },
      "cell_type": "code",
      "source": [
        "X = tf.placeholder(dtype='float', shape=[None, 28, 28, 1], name='X')\n",
        "Y = tf.placeholder(dtype='float', shape=[None, 28, 28, 1], name='Y')\n",
        "Y_flat = tf.reshape(Y, [-1, 28*28])\n",
        "\n",
        "n_gaussians = 5"
      ],
      "execution_count": 0,
      "outputs": []
    },
    {
      "metadata": {
        "id": "hSw408aYviQS",
        "colab_type": "code",
        "colab": {}
      },
      "cell_type": "code",
      "source": [
        "def encoder(X):\n",
        "\n",
        "  conv_1 = tf.layers.Conv2D(filters=32, kernel_size=(4, 4), strides=(2, 2), activation=tf.nn.relu, padding='same')(X)\n",
        "  # pool_1 = tf.layers.MaxPooling2D(pool_size=(2, 2), strides=(2, 2))(conv_1)\n",
        "  # bn_1 = tf.layers.BatchNormalization()(conv_1)\n",
        "\n",
        "  conv_2 = tf.layers.Conv2D(filters=32, kernel_size=(4, 4), strides=(2, 2), activation=tf.nn.relu, padding='same')(conv_1)\n",
        "  # pool_2 = tf.layers.MaxPooling2D(pool_size=(2, 2), strides=(2, 2))(conv_2)\n",
        "  # bn_2 = tf.layers.BatchNormalization()(conv_2)\n",
        "\n",
        "  conv_3 = tf.layers.Conv2D(filters=32, kernel_size=(3, 3), strides=(2, 2), activation=tf.nn.relu, padding='same')(conv_2)\n",
        "  # pool_3 = tf.layers.MaxPooling2D(pool_size=(2, 2), strides=(2, 2))(conv_3)\n",
        "  # bn_3 = tf.layers.BatchNormalization()(conv_3)\n",
        "\n",
        "  dropout_1 = tf.layers.Dropout(rate=0.4)(conv_3)\n",
        "\n",
        "  flattened = tf.layers.Flatten()(dropout_1)\n",
        "  dense_1 = tf.layers.Dense(units=n_gaussians * 2)(flattened)\n",
        "\n",
        "  # use first half as mu\n",
        "  mu = dense_1[:, :n_gaussians]\n",
        "\n",
        "  # use 2nd half as std, standard deviation has to be positive\n",
        "  std = tf.nn.softplus(dense_1[:, n_gaussians:])\n",
        "  \n",
        "  return mu, std"
      ],
      "execution_count": 0,
      "outputs": []
    },
    {
      "metadata": {
        "id": "yA0Xb0OQ6rim",
        "colab_type": "code",
        "colab": {}
      },
      "cell_type": "code",
      "source": [
        "def decoder(z):\n",
        "  dense_1 = tf.layers.Dense(units=512, activation=tf.nn.relu)(z)\n",
        "  dense_2 = tf.layers.Dense(units=4 * 4 * 32, activation=tf.nn.relu)(dense_1)\n",
        "  reshaped = tf.reshape(dense_2, [-1, 4, 4, 32])\n",
        "  dconv_1 = tf.layers.Conv2DTranspose(filters=32, kernel_size=(3, 3), strides=(2, 2), activation=tf.nn.relu)(reshaped)\n",
        "  dconv_2 = tf.layers.Conv2DTranspose(filters=32, kernel_size=(4, 4), strides=(2, 2), activation=tf.nn.relu)(dconv_1)\n",
        "  flattened = tf.layers.Flatten()(dconv_2)\n",
        "  dense_3 = tf.layers.Dense(units=28 * 28, activation=tf.nn.relu)(flattened)\n",
        "  output = tf.reshape(dense_3, [-1, 28, 28, 1])\n",
        "  return output, dense_3"
      ],
      "execution_count": 0,
      "outputs": []
    },
    {
      "metadata": {
        "id": "NuM09I5K9M9r",
        "colab_type": "code",
        "outputId": "1ebb0e6a-2f0d-4a4d-ed69-4ab1dde4c1ce",
        "colab": {
          "base_uri": "https://localhost:8080/",
          "height": 68
        }
      },
      "cell_type": "code",
      "source": [
        "mu, std = encoder(X)\n",
        "z = mu + std * tf.random.normal(tf.shape(mu))\n",
        "output, output_flat = decoder(z)"
      ],
      "execution_count": 12,
      "outputs": [
        {
          "output_type": "stream",
          "text": [
            "WARNING:tensorflow:From /usr/local/lib/python3.6/dist-packages/tensorflow/python/framework/op_def_library.py:263: colocate_with (from tensorflow.python.framework.ops) is deprecated and will be removed in a future version.\n",
            "Instructions for updating:\n",
            "Colocations handled automatically by placer.\n"
          ],
          "name": "stdout"
        }
      ]
    },
    {
      "metadata": {
        "id": "GTCUk95OB5Ox",
        "colab_type": "code",
        "colab": {}
      },
      "cell_type": "code",
      "source": [
        "mse = tf.reduce_sum(tf.squared_difference(output_flat, Y_flat), 1)"
      ],
      "execution_count": 0,
      "outputs": []
    },
    {
      "metadata": {
        "id": "9Zd14A-H51Az",
        "colab_type": "code",
        "colab": {
          "base_uri": "https://localhost:8080/",
          "height": 68
        },
        "outputId": "b636f0d8-2932-47b2-e801-368b1bf8f762"
      },
      "cell_type": "code",
      "source": [
        "kld = 0.5 * tf.reduce_sum(tf.square(mu) + tf.square(std) - tf.log(1e-8 + tf.square(std)) - 1, 1)\n",
        "loss = tf.reduce_mean(mse + kld)\n",
        "optimizer = tf.train.AdamOptimizer(0.0004).minimize(loss)\n"
      ],
      "execution_count": 14,
      "outputs": [
        {
          "output_type": "stream",
          "text": [
            "WARNING:tensorflow:From /usr/local/lib/python3.6/dist-packages/tensorflow/python/ops/math_ops.py:3066: to_int32 (from tensorflow.python.ops.math_ops) is deprecated and will be removed in a future version.\n",
            "Instructions for updating:\n",
            "Use tf.cast instead.\n"
          ],
          "name": "stdout"
        }
      ]
    },
    {
      "metadata": {
        "id": "Tuxzle576NuC",
        "colab_type": "code",
        "colab": {}
      },
      "cell_type": "code",
      "source": [
        "sess = tf.Session()\n",
        "sess.run(tf.global_variables_initializer())"
      ],
      "execution_count": 0,
      "outputs": []
    },
    {
      "metadata": {
        "id": "AhUBx_Sc5xzs",
        "colab_type": "code",
        "colab": {}
      },
      "cell_type": "code",
      "source": [
        ""
      ],
      "execution_count": 0,
      "outputs": []
    }
  ]
}