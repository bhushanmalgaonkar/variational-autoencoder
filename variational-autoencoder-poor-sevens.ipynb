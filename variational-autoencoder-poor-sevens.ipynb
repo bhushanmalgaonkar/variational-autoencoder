{
  "nbformat": 4,
  "nbformat_minor": 0,
  "metadata": {
    "colab": {
      "name": "variational-autoencoder-poor-sevens.ipynb",
      "version": "0.3.2",
      "provenance": []
    },
    "language_info": {
      "codemirror_mode": {
        "name": "ipython",
        "version": 3
      },
      "file_extension": ".py",
      "mimetype": "text/x-python",
      "name": "python",
      "nbconvert_exporter": "python",
      "pygments_lexer": "ipython3",
      "version": "3.6.4"
    },
    "kernelspec": {
      "name": "python3",
      "display_name": "Python 3"
    },
    "accelerator": "GPU"
  },
  "cells": [
    {
      "metadata": {
        "id": "m4_NSzYW9wWp",
        "colab_type": "code",
        "outputId": "b5f62eec-c273-41ad-ce96-c61348c63ece",
        "colab": {
          "base_uri": "https://localhost:8080/",
          "height": 34
        }
      },
      "cell_type": "code",
      "source": [
        "from google.colab import drive\n",
        "drive.mount('/content/drive', force_remount=True)"
      ],
      "execution_count": 1,
      "outputs": [
        {
          "output_type": "stream",
          "text": [
            "Mounted at /content/drive\n"
          ],
          "name": "stdout"
        }
      ]
    },
    {
      "metadata": {
        "id": "HPi1RTgCANxK",
        "colab_type": "code",
        "colab": {}
      },
      "cell_type": "code",
      "source": [
        "import pickle\n",
        "import math"
      ],
      "execution_count": 0,
      "outputs": []
    },
    {
      "metadata": {
        "id": "oNhdB6PXAOia",
        "colab_type": "code",
        "colab": {}
      },
      "cell_type": "code",
      "source": [
        "import numpy as np\n",
        "import tensorflow as tf\n",
        "import matplotlib.pyplot as plt\n",
        "%matplotlib inline"
      ],
      "execution_count": 0,
      "outputs": []
    },
    {
      "metadata": {
        "id": "8eNF_xNQc3zD",
        "colab_type": "text"
      },
      "cell_type": "markdown",
      "source": [
        "# Read data"
      ]
    },
    {
      "metadata": {
        "id": "GzhH1fi9-QOp",
        "colab_type": "code",
        "colab": {}
      },
      "cell_type": "code",
      "source": [
        "base_path = './drive/My Drive/Colab Notebooks/hw4/variational-autoencoder/'\n",
        "train_path = base_path + 'hw4_tr7.pkl'\n",
        "test_path = base_path + 'hw4_te7.pkl'\n",
        "\n",
        "base_path_model = base_path + 'model/'"
      ],
      "execution_count": 0,
      "outputs": []
    },
    {
      "metadata": {
        "id": "_p2RjmdtcylR",
        "colab_type": "text"
      },
      "cell_type": "markdown",
      "source": [
        "## Structure of the data\n",
        "\n",
        "tr7.pkl contains 6,265 MNIST digits from its training set, but not all ten digits. I only selected 7’s. Therefore, it’s with a rank-3 tensor of size 6, 265 × 28 × 28. Similarly, te7.pkl contains 1,028 7’s.\n",
        "\n",
        "The digit images in this problem are special, because a special effect has been added to them. So, they are different from the original 7’s in the MNIST dataset in a way. The goal of this problem is to find out what effect is applied to the poor 7’s.\n"
      ]
    },
    {
      "metadata": {
        "id": "qcfMdGK6-uLo",
        "colab_type": "code",
        "colab": {}
      },
      "cell_type": "code",
      "source": [
        "with open(train_path, 'rb') as f:\n",
        "  train = pickle.load(f)\n",
        "  train = train.reshape([-1, 28, 28, 1])\n",
        "\n",
        "with open(test_path, 'rb') as f:\n",
        "  test = pickle.load(f)\n",
        "  test = test.reshape([-1, 28, 28, 1])"
      ],
      "execution_count": 0,
      "outputs": []
    },
    {
      "metadata": {
        "id": "ayzxfoIXAIp9",
        "colab_type": "code",
        "outputId": "a121ce1f-bfc0-41d6-dee5-a09a50c17782",
        "colab": {
          "base_uri": "https://localhost:8080/",
          "height": 34
        }
      },
      "cell_type": "code",
      "source": [
        "train.shape"
      ],
      "execution_count": 6,
      "outputs": [
        {
          "output_type": "execute_result",
          "data": {
            "text/plain": [
              "(6265, 28, 28, 1)"
            ]
          },
          "metadata": {
            "tags": []
          },
          "execution_count": 6
        }
      ]
    },
    {
      "metadata": {
        "id": "K7lrN_RHASdO",
        "colab_type": "code",
        "outputId": "df91bffe-cef7-4922-a3c4-4a620701a0c1",
        "colab": {
          "base_uri": "https://localhost:8080/",
          "height": 34
        }
      },
      "cell_type": "code",
      "source": [
        "test.shape"
      ],
      "execution_count": 7,
      "outputs": [
        {
          "output_type": "execute_result",
          "data": {
            "text/plain": [
              "(1028, 28, 28, 1)"
            ]
          },
          "metadata": {
            "tags": []
          },
          "execution_count": 7
        }
      ]
    },
    {
      "metadata": {
        "id": "L8rRK8EfdnYP",
        "colab_type": "text"
      },
      "cell_type": "markdown",
      "source": [
        "## Visualize data"
      ]
    },
    {
      "metadata": {
        "id": "uJwiICPxATRT",
        "colab_type": "code",
        "outputId": "1fafedeb-950e-45db-c7f5-96604b6ec40d",
        "colab": {
          "base_uri": "https://localhost:8080/",
          "height": 582
        }
      },
      "cell_type": "code",
      "source": [
        "plt.figure(figsize=(10, 10))\n",
        "for i in range(5):\n",
        "  for j in range(5):\n",
        "    ax = plt.subplot(5, 5, 5 * i + j + 1)\n",
        "    plt.imshow(np.squeeze(train[np.random.randint(0, train.shape[0])]))\n",
        "    ax.set_xticklabels([])\n",
        "    ax.set_yticklabels([])\n",
        "    ax.set_xticks([])\n",
        "    ax.set_yticks([])"
      ],
      "execution_count": 8,
      "outputs": [
        {
          "output_type": "display_data",
          "data": {
            "image/png": "[encoded data removed]",
            "text/plain": [
              "<Figure size 720x720 with 25 Axes>"
            ]
          },
          "metadata": {
            "tags": []
          }
        }
      ]
    },
    {
      "metadata": {
        "id": "3PKJQ-9fdx3H",
        "colab_type": "text"
      },
      "cell_type": "markdown",
      "source": [
        "# Create model"
      ]
    },
    {
      "metadata": {
        "id": "vc-9XPX6mr6k",
        "colab_type": "code",
        "colab": {}
      },
      "cell_type": "code",
      "source": [
        "X = tf.placeholder(dtype='float', shape=[None, 28, 28, 1], name='X')\n",
        "Y = tf.placeholder(dtype='float', shape=[None, 28, 28, 1], name='Y')\n",
        "Y_flat = tf.reshape(Y, [-1, 28*28])\n",
        "\n",
        "n_gaussians = 4"
      ],
      "execution_count": 0,
      "outputs": []
    },
    {
      "metadata": {
        "id": "hSw408aYviQS",
        "colab_type": "code",
        "colab": {}
      },
      "cell_type": "code",
      "source": [
        "def encoder(X):\n",
        "\n",
        "  conv_1 = tf.layers.Conv2D(filters=32, kernel_size=(4, 4), strides=(2, 2), activation=tf.nn.relu, padding='same')(X)\n",
        "  # pool_1 = tf.layers.MaxPooling2D(pool_size=(2, 2), strides=(2, 2))(conv_1)\n",
        "#   bn_1 = tf.layers.BatchNormalization()(conv_1)\n",
        "\n",
        "  conv_2 = tf.layers.Conv2D(filters=32, kernel_size=(4, 4), strides=(2, 2), activation=tf.nn.relu, padding='same')(conv_1)\n",
        "  # pool_2 = tf.layers.MaxPooling2D(pool_size=(2, 2), strides=(2, 2))(conv_2)\n",
        "#   bn_2 = tf.layers.BatchNormalization()(conv_2)\n",
        "\n",
        "  conv_3 = tf.layers.Conv2D(filters=32, kernel_size=(3, 3), strides=(2, 2), activation=tf.nn.relu, padding='same')(conv_2)\n",
        "  # pool_3 = tf.layers.MaxPooling2D(pool_size=(2, 2), strides=(2, 2))(conv_3)\n",
        "#   bn_3 = tf.layers.BatchNormalization()(conv_3)\n",
        "  dropout_3 = tf.layers.Dropout(0.2)(conv_3)\n",
        "  \n",
        "  print(conv_1)\n",
        "  print(conv_2)\n",
        "  print(conv_3)\n",
        "\n",
        "  flattened = tf.layers.Flatten()(dropout_3)\n",
        "  dense_1 = tf.layers.Dense(units=200)(flattened)\n",
        "  dense_2 = tf.layers.Dense(units=50)(dense_1)\n",
        "\n",
        "  mu = tf.layers.Dense(units=n_gaussians)(dense_2)\n",
        "  std = tf.layers.Dense(units=n_gaussians)(dense_2)\n",
        "    \n",
        "  return mu, std"
      ],
      "execution_count": 0,
      "outputs": []
    },
    {
      "metadata": {
        "id": "yA0Xb0OQ6rim",
        "colab_type": "code",
        "colab": {}
      },
      "cell_type": "code",
      "source": [
        "def decoder(z):\n",
        "  with tf.variable_scope('decoder', reuse=tf.AUTO_REUSE):\n",
        "    dense_1 = tf.layers.Dense(units=50, activation=tf.nn.relu, name='dense_1')(z)\n",
        "    dense_2 = tf.layers.Dense(units=512, activation=tf.nn.relu, name='dense_2')(dense_1)\n",
        "    unflatteded = tf.reshape(dense_2, [-1, 4, 4, 32], name='unflattened')\n",
        "\n",
        "    dconv_1 = tf.layers.Conv2DTranspose(filters=32, kernel_size=(4, 4), strides=(1, 1), activation=tf.nn.relu, name='dconv_1')(unflatteded)\n",
        "    dconv_2 = tf.layers.Conv2DTranspose(filters=32, kernel_size=(4, 4), strides=(2, 2), activation=tf.nn.relu, name='dconv_2')(dconv_1)\n",
        "\n",
        "    flattened = tf.layers.Flatten(name='flattened')(dconv_2)\n",
        "    dense_3 = tf.layers.Dense(units=28 * 28, activation=tf.nn.relu, name='dense_3')(flattened)\n",
        "    output = tf.reshape(dense_3, [-1, 28, 28, 1], name='output')\n",
        "\n",
        "    print(dconv_1)\n",
        "    print(dconv_2)\n",
        "    print(dense_3)\n",
        "    print(output)\n",
        "\n",
        "    return output"
      ],
      "execution_count": 0,
      "outputs": []
    },
    {
      "metadata": {
        "id": "NuM09I5K9M9r",
        "colab_type": "code",
        "outputId": "a68daee9-d04c-40b6-c9c0-127fb77e4473",
        "colab": {
          "base_uri": "https://localhost:8080/",
          "height": 119
        }
      },
      "cell_type": "code",
      "source": [
        "mu, std = encoder(X)\n",
        "z = mu + std * tf.random.normal(tf.shape(mu))"
      ],
      "execution_count": 12,
      "outputs": [
        {
          "output_type": "stream",
          "text": [
            "WARNING:tensorflow:From /usr/local/lib/python3.6/dist-packages/tensorflow/python/framework/op_def_library.py:263: colocate_with (from tensorflow.python.framework.ops) is deprecated and will be removed in a future version.\n",
            "Instructions for updating:\n",
            "Colocations handled automatically by placer.\n",
            "Tensor(\"conv2d/Relu:0\", shape=(?, 14, 14, 32), dtype=float32)\n",
            "Tensor(\"conv2d_1/Relu:0\", shape=(?, 7, 7, 32), dtype=float32)\n",
            "Tensor(\"conv2d_2/Relu:0\", shape=(?, 4, 4, 32), dtype=float32)\n"
          ],
          "name": "stdout"
        }
      ]
    },
    {
      "metadata": {
        "id": "BZQ5iszyTkHF",
        "colab_type": "code",
        "colab": {
          "base_uri": "https://localhost:8080/",
          "height": 85
        },
        "outputId": "32686f7f-26e7-4b60-ec02-dc5f4b8d9341"
      },
      "cell_type": "code",
      "source": [
        "output = decoder(z)"
      ],
      "execution_count": 13,
      "outputs": [
        {
          "output_type": "stream",
          "text": [
            "Tensor(\"decoder/dconv_1/Relu:0\", shape=(?, 7, 7, 32), dtype=float32)\n",
            "Tensor(\"decoder/dconv_2/Relu:0\", shape=(?, 16, 16, 32), dtype=float32)\n",
            "Tensor(\"decoder/dense_3/Relu:0\", shape=(?, 784), dtype=float32)\n",
            "Tensor(\"decoder/output:0\", shape=(?, 28, 28, 1), dtype=float32)\n"
          ],
          "name": "stdout"
        }
      ]
    },
    {
      "metadata": {
        "id": "GTCUk95OB5Ox",
        "colab_type": "text"
      },
      "cell_type": "markdown",
      "source": [
        "## Define loss\n",
        "\n",
        "Loss in VAE is a function of\n",
        "1. Reconstruction loss (Mean Squared Error between input image and image generated by the decoder)\n",
        "2. KL divergence with standard normal distribution"
      ]
    },
    {
      "metadata": {
        "id": "VN1bcuheRTnK",
        "colab_type": "code",
        "colab": {}
      },
      "cell_type": "code",
      "source": [
        "mse = tf.reduce_sum(tf.squared_difference(X, output))\n",
        "kld = 0.5 * tf.reduce_sum(tf.square(mu) + tf.square(std) - tf.log(1e-8 + tf.square(std)) - 1)\n",
        "loss = mse + kld\n",
        "optimizer = tf.train.AdamOptimizer(0.0004).minimize(loss)"
      ],
      "execution_count": 0,
      "outputs": []
    },
    {
      "metadata": {
        "id": "PnntGvFD8_am",
        "colab_type": "code",
        "colab": {}
      },
      "cell_type": "code",
      "source": [
        "batch_size = 1000\n",
        "num_epochs = 250\n",
        "display_step = 50\n",
        "log_step = 5\n",
        "save_step = 50\n",
        "\n",
        "total_samples_train = train.shape[0]\n",
        "total_samples_test = test.shape[0]\n",
        "num_batches_train = int(math.ceil(total_samples_train/batch_size))\n",
        "num_batches_test = int(math.ceil(total_samples_test/batch_size))\n",
        "\n",
        "train_loss = []\n",
        "test_loss = []"
      ],
      "execution_count": 0,
      "outputs": []
    },
    {
      "metadata": {
        "id": "Tuxzle576NuC",
        "colab_type": "code",
        "colab": {}
      },
      "cell_type": "code",
      "source": [
        "sess = tf.Session()\n",
        "saver = tf.train.Saver()\n",
        "sess.run(tf.global_variables_initializer())"
      ],
      "execution_count": 0,
      "outputs": []
    },
    {
      "metadata": {
        "id": "AhUBx_Sc5xzs",
        "colab_type": "code",
        "colab": {
          "base_uri": "https://localhost:8080/",
          "height": 102
        },
        "outputId": "35b636cd-57ea-4e11-975a-b549e7cd714c"
      },
      "cell_type": "code",
      "source": [
        "# saver.restore(sess, base_path_model + 'model_4950.ckpt')\n",
        "\n",
        "for epoch in range(1, num_epochs + 1):\n",
        "  loss_val_tr = 0\n",
        "  for itr in range(num_batches_train):\n",
        "    start_idx = itr * batch_size\n",
        "    end_idx = min((itr + 1) * batch_size, total_samples_train)\n",
        "    \n",
        "    batch_x = train[start_idx:end_idx]\n",
        "    _, lv = sess.run([optimizer, loss], feed_dict={X:batch_x})\n",
        "    loss_val_tr += lv\n",
        "    \n",
        "  loss_val_tr /= total_samples_train\n",
        "  \n",
        "  if epoch % log_step == 0:\n",
        "    train_loss.append(loss_val_tr)\n",
        "    \n",
        "    # calculate test loss\n",
        "    loss_val_te = 0\n",
        "    for itr in range(num_batches_test):\n",
        "      start_idx = itr * batch_size\n",
        "      end_idx = min((itr + 1) * batch_size, total_samples_test)\n",
        "\n",
        "      batch_x = test[start_idx:end_idx]\n",
        "      _, lv = sess.run([optimizer, loss], feed_dict={X:batch_x})\n",
        "      loss_val_te += lv\n",
        "    loss_val_te /= total_samples_test\n",
        "    test_loss.append(loss_val_te)\n",
        "    \n",
        "  if epoch % display_step == 0:\n",
        "    print('Epoch: {}, Loss: {}, {}'.format(epoch, loss_val_tr, loss_val_te))\n",
        "  if epoch % save_step == 0:\n",
        "    saver.save(sess, base_path_model + 'model_' + str(epoch) + '.ckpt')"
      ],
      "execution_count": 17,
      "outputs": [
        {
          "output_type": "stream",
          "text": [
            "Epoch: 50, Loss: 34.66602497755387, 34.15997688501262\n",
            "Epoch: 100, Loss: 31.884745984636872, 31.72154562389804\n",
            "Epoch: 150, Loss: 30.75276165328212, 30.85109612728371\n",
            "Epoch: 200, Loss: 30.41720979025339, 30.89174417577365\n",
            "Epoch: 250, Loss: 30.029271155476856, 30.639713806864815\n"
          ],
          "name": "stdout"
        }
      ]
    },
    {
      "metadata": {
        "id": "7HK1ww3lx46l",
        "colab_type": "text"
      },
      "cell_type": "markdown",
      "source": [
        "### Plot training loss over epochs"
      ]
    },
    {
      "metadata": {
        "id": "M_jfsSYIwu1G",
        "colab_type": "code",
        "colab": {
          "base_uri": "https://localhost:8080/",
          "height": 300
        },
        "outputId": "7156aa29-ac4c-4907-8f72-00765edfda37"
      },
      "cell_type": "code",
      "source": [
        "p = plt.plot(log_step + np.arange(0, num_epochs, log_step), train_loss)\n",
        "p = plt.plot(log_step + np.arange(0, num_epochs, log_step), test_loss)\n",
        "plt.xlabel('Epoch')\n",
        "plt.ylabel('Loss')\n",
        "plt.legend(['Training loss', 'Testing loss'])"
      ],
      "execution_count": 18,
      "outputs": [
        {
          "output_type": "execute_result",
          "data": {
            "text/plain": [
              "<matplotlib.legend.Legend at 0x7f12864b92b0>"
            ]
          },
          "metadata": {
            "tags": []
          },
          "execution_count": 18
        },
        {
          "output_type": "display_data",
          "data": {
            "image/png": "[encoded data removed]",
            "text/plain": [
              "<Figure size 432x288 with 1 Axes>"
            ]
          },
          "metadata": {
            "tags": []
          }
        }
      ]
    },
    {
      "metadata": {
        "id": "DQ1Y1ypaK8oC",
        "colab_type": "text"
      },
      "cell_type": "markdown",
      "source": [
        "# Testing\n",
        "\n",
        "Reconstruct images"
      ]
    },
    {
      "metadata": {
        "id": "gLDg0AOEN-GW",
        "colab_type": "code",
        "colab": {}
      },
      "cell_type": "code",
      "source": [
        "num_test_samples = 5\n",
        "\n",
        "idx = np.random.choice(np.arange(test.shape[0]), num_test_samples, replace=False)\n",
        "original = test[idx]\n",
        "reconstructed = sess.run(output, feed_dict={X: original})"
      ],
      "execution_count": 0,
      "outputs": []
    },
    {
      "metadata": {
        "id": "8ySdAIBEPLTG",
        "colab_type": "code",
        "colab": {
          "base_uri": "https://localhost:8080/",
          "height": 757
        },
        "outputId": "57d14c23-f103-452b-ff49-085033a1c44d"
      },
      "cell_type": "code",
      "source": [
        "for i in range(num_test_samples):\n",
        "  plt.figure(figsize=(5, 10))\n",
        "  \n",
        "  ax = plt.subplot(1, 2, 1)\n",
        "  plt.imshow(original[i].reshape([28, 28]))\n",
        "  ax.set_xticklabels([])\n",
        "  ax.set_yticklabels([])\n",
        "  ax.set_xticks([])\n",
        "  ax.set_yticks([])\n",
        "  \n",
        "  ax = plt.subplot(1, 2, 2)\n",
        "  plt.imshow(reconstructed[i].reshape([28, 28]))\n",
        "  ax.set_xticklabels([])\n",
        "  ax.set_yticklabels([])\n",
        "  ax.set_xticks([])\n",
        "  ax.set_yticks([])"
      ],
      "execution_count": 20,
      "outputs": [
        {
          "output_type": "display_data",
          "data": {
            "image/png": "[encoded data removed]",
            "text/plain": [
              "<Figure size 360x720 with 2 Axes>"
            ]
          },
          "metadata": {
            "tags": []
          }
        },
        {
          "output_type": "display_data",
          "data": {
            "image/png": "[encoded data removed]",
            "text/plain": [
              "<Figure size 360x720 with 2 Axes>"
            ]
          },
          "metadata": {
            "tags": []
          }
        },
        {
          "output_type": "display_data",
          "data": {
            "image/png": "[encoded data removed]",
            "text/plain": [
              "<Figure size 360x720 with 2 Axes>"
            ]
          },
          "metadata": {
            "tags": []
          }
        },
        {
          "output_type": "display_data",
          "data": {
            "image/png": "[encoded data removed]",
            "text/plain": [
              "<Figure size 360x720 with 2 Axes>"
            ]
          },
          "metadata": {
            "tags": []
          }
        },
        {
          "output_type": "display_data",
          "data": {
            "image/png": "[encoded data removed]",
            "text/plain": [
              "<Figure size 360x720 with 2 Axes>"
            ]
          },
          "metadata": {
            "tags": []
          }
        }
      ]
    },
    {
      "metadata": {
        "id": "dF9xa40EbzD0",
        "colab_type": "text"
      },
      "cell_type": "markdown",
      "source": [
        "# Create new images"
      ]
    },
    {
      "metadata": {
        "id": "YJHfy-wgN7wd",
        "colab_type": "code",
        "colab": {
          "base_uri": "https://localhost:8080/",
          "height": 85
        },
        "outputId": "893e105f-7cd6-4043-d2e3-b6eab47fccb2"
      },
      "cell_type": "code",
      "source": [
        "Z = tf.placeholder(dtype='float', shape=[None, n_gaussians], name='Z')\n",
        "generate_image = decoder(Z)"
      ],
      "execution_count": 21,
      "outputs": [
        {
          "output_type": "stream",
          "text": [
            "Tensor(\"decoder_1/dconv_1/Relu:0\", shape=(?, 7, 7, 32), dtype=float32)\n",
            "Tensor(\"decoder_1/dconv_2/Relu:0\", shape=(?, 16, 16, 32), dtype=float32)\n",
            "Tensor(\"decoder_1/dense_3/Relu:0\", shape=(?, 784), dtype=float32)\n",
            "Tensor(\"decoder_1/output:0\", shape=(?, 28, 28, 1), dtype=float32)\n"
          ],
          "name": "stdout"
        }
      ]
    },
    {
      "metadata": {
        "id": "eUIOij24b6Y9",
        "colab_type": "text"
      },
      "cell_type": "markdown",
      "source": [
        "## Take a reference latent vector of a training image "
      ]
    },
    {
      "metadata": {
        "id": "Iqe3Oa2zVRPW",
        "colab_type": "code",
        "colab": {
          "base_uri": "https://localhost:8080/",
          "height": 34
        },
        "outputId": "f2139a93-f6fd-49a7-e1ad-fc916820948e"
      },
      "cell_type": "code",
      "source": [
        "ref_img = sess.run(z, feed_dict={X: train[:1]})[0]\n",
        "ref_img"
      ],
      "execution_count": 22,
      "outputs": [
        {
          "output_type": "execute_result",
          "data": {
            "text/plain": [
              "array([-0.86403865, -0.57136416, -0.0611895 , -0.15634428], dtype=float32)"
            ]
          },
          "metadata": {
            "tags": []
          },
          "execution_count": 22
        }
      ]
    },
    {
      "metadata": {
        "id": "-hXaf0KHcJMm",
        "colab_type": "text"
      },
      "cell_type": "markdown",
      "source": [
        "## Change each dimension by keeping others fixed and observe the effect of each dimension"
      ]
    },
    {
      "metadata": {
        "id": "M4PN9wybcETe",
        "colab_type": "text"
      },
      "cell_type": "markdown",
      "source": [
        "Helper function to plot images"
      ]
    },
    {
      "metadata": {
        "id": "sTr9fVAUXA_d",
        "colab_type": "code",
        "colab": {}
      },
      "cell_type": "code",
      "source": [
        "def plot_images(images):\n",
        "  n = len(images)\n",
        "  plt.figure(figsize=(20, 20 * n))\n",
        "  for i in range(n):\n",
        "      ax = plt.subplot(1, n, i + 1)\n",
        "      plt.imshow(images[i])\n",
        "      ax.set_xticklabels([])\n",
        "      ax.set_yticklabels([])\n",
        "      ax.set_xticks([])\n",
        "      ax.set_yticks([])"
      ],
      "execution_count": 0,
      "outputs": []
    },
    {
      "metadata": {
        "id": "mTNrleY_mBQK",
        "colab_type": "text"
      },
      "cell_type": "markdown",
      "source": [
        "Change one dimension at a time keeping others fixed to observe the effect"
      ]
    },
    {
      "metadata": {
        "id": "gcoPWYBwVZwx",
        "colab_type": "code",
        "colab": {
          "base_uri": "https://localhost:8080/",
          "height": 289
        },
        "outputId": "a366755f-0df5-4155-e3c2-22cc662c3f95"
      },
      "cell_type": "code",
      "source": [
        "num_tweaked_images = 20\n",
        "for dim in range(n_gaussians):\n",
        "  tweaked_vectors = []\n",
        "  for new_val in np.linspace(-2, 2, num_tweaked_images):\n",
        "    tweaked_vec = ref_img.copy()\n",
        "    tweaked_vec[dim] = new_val\n",
        "    tweaked_vectors.append(tweaked_vec)\n",
        "  gen_images = sess.run(generate_image, feed_dict={Z: np.array(tweaked_vectors)})\n",
        "  plot_images(gen_images.reshape([-1, 28, 28]))"
      ],
      "execution_count": 24,
      "outputs": [
        {
          "output_type": "display_data",
          "data": {
            "image/png": "[encoded data removed]",
            "text/plain": [
              "<Figure size 1440x28800 with 20 Axes>"
            ]
          },
          "metadata": {
            "tags": []
          }
        },
        {
          "output_type": "display_data",
          "data": {
            "image/png": "[encoded data removed]",
            "text/plain": [
              "<Figure size 1440x28800 with 20 Axes>"
            ]
          },
          "metadata": {
            "tags": []
          }
        },
        {
          "output_type": "display_data",
          "data": {
            "image/png": "[encoded data removed]",
            "text/plain": [
              "<Figure size 1440x28800 with 20 Axes>"
            ]
          },
          "metadata": {
            "tags": []
          }
        },
        {
          "output_type": "display_data",
          "data": {
            "image/png": "[encoded data removed]",
            "text/plain": [
              "<Figure size 1440x28800 with 20 Axes>"
            ]
          },
          "metadata": {
            "tags": []
          }
        }
      ]
    },
    {
      "metadata": {
        "id": "hflMWMLAWVNl",
        "colab_type": "text"
      },
      "cell_type": "markdown",
      "source": [
        "# Observations\n",
        "\n",
        "Looking at the generated images, the network learns parameters which control \n",
        "\n",
        "1. Thickness/Brightness\n",
        "2. Rotation\n",
        "3. Length and shape of top horizontal line\n",
        "4. Angle top horizontal line makes with the vertical line\n",
        "5. Small horizontal line in the middle"
      ]
    },
    {
      "metadata": {
        "id": "Y694HTyqJwXp",
        "colab_type": "code",
        "colab": {}
      },
      "cell_type": "code",
      "source": [
        ""
      ],
      "execution_count": 0,
      "outputs": []
    }
  ]
}