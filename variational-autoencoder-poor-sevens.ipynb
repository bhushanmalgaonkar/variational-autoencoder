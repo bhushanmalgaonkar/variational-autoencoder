{
  "nbformat": 4,
  "nbformat_minor": 0,
  "metadata": {
    "colab": {
      "name": "variational-autoencoder-poor-sevens.ipynb",
      "version": "0.3.2",
      "provenance": []
    },
    "language_info": {
      "codemirror_mode": {
        "name": "ipython",
        "version": 3
      },
      "file_extension": ".py",
      "mimetype": "text/x-python",
      "name": "python",
      "nbconvert_exporter": "python",
      "pygments_lexer": "ipython3",
      "version": "3.6.4"
    },
    "kernelspec": {
      "name": "python3",
      "display_name": "Python 3"
    },
    "accelerator": "GPU"
  },
  "cells": [
    {
      "metadata": {
        "id": "m4_NSzYW9wWp",
        "colab_type": "code",
        "outputId": "52d5b967-42a5-4261-cbf6-093c46ef0b73",
        "colab": {
          "base_uri": "https://localhost:8080/",
          "height": 34
        }
      },
      "cell_type": "code",
      "source": [
        "from google.colab import drive\n",
        "drive.mount('/content/drive', force_remount=True)"
      ],
      "execution_count": 1,
      "outputs": [
        {
          "output_type": "stream",
          "text": [
            "Mounted at /content/drive\n"
          ],
          "name": "stdout"
        }
      ]
    },
    {
      "metadata": {
        "id": "HPi1RTgCANxK",
        "colab_type": "code",
        "colab": {}
      },
      "cell_type": "code",
      "source": [
        "import pickle\n",
        "import math"
      ],
      "execution_count": 0,
      "outputs": []
    },
    {
      "metadata": {
        "id": "oNhdB6PXAOia",
        "colab_type": "code",
        "colab": {}
      },
      "cell_type": "code",
      "source": [
        "import numpy as np\n",
        "import tensorflow as tf\n",
        "import matplotlib.pyplot as plt\n",
        "%matplotlib inline"
      ],
      "execution_count": 0,
      "outputs": []
    },
    {
      "metadata": {
        "id": "8eNF_xNQc3zD",
        "colab_type": "text"
      },
      "cell_type": "markdown",
      "source": [
        "# Read data"
      ]
    },
    {
      "metadata": {
        "id": "GzhH1fi9-QOp",
        "colab_type": "code",
        "colab": {}
      },
      "cell_type": "code",
      "source": [
        "base_path = './drive/My Drive/Colab Notebooks/hw4/variational-autoencoder/'\n",
        "train_path = base_path + 'hw4_tr7.pkl'\n",
        "test_path = base_path + 'hw4_te7.pkl'\n",
        "\n",
        "base_path_model = base_path + 'model/'"
      ],
      "execution_count": 0,
      "outputs": []
    },
    {
      "metadata": {
        "id": "_p2RjmdtcylR",
        "colab_type": "text"
      },
      "cell_type": "markdown",
      "source": [
        "## Structure of the data\n",
        "\n",
        "tr7.pkl contains 6,265 MNIST digits from its training set, but not all ten digits. I only selected 7’s. Therefore, it’s with a rank-3 tensor of size 6, 265 × 28 × 28. Similarly, te7.pkl contains 1,028 7’s.\n",
        "\n",
        "The digit images in this problem are special, because a special effect has been added to them. So, they are different from the original 7’s in the MNIST dataset in a way. The goal of this problem is to find out what effect is applied to the poor 7’s.\n"
      ]
    },
    {
      "metadata": {
        "id": "qcfMdGK6-uLo",
        "colab_type": "code",
        "colab": {}
      },
      "cell_type": "code",
      "source": [
        "with open(train_path, 'rb') as f:\n",
        "  train = pickle.load(f)\n",
        "  train = train.reshape([-1, 28, 28, 1])\n",
        "\n",
        "with open(test_path, 'rb') as f:\n",
        "  test = pickle.load(f)\n",
        "  test = test.reshape([-1, 28, 28, 1])"
      ],
      "execution_count": 0,
      "outputs": []
    },
    {
      "metadata": {
        "id": "ayzxfoIXAIp9",
        "colab_type": "code",
        "outputId": "f2d7a9a0-4cf3-494b-ea98-bc26b3479a1a",
        "colab": {
          "base_uri": "https://localhost:8080/",
          "height": 34
        }
      },
      "cell_type": "code",
      "source": [
        "train.shape"
      ],
      "execution_count": 6,
      "outputs": [
        {
          "output_type": "execute_result",
          "data": {
            "text/plain": [
              "(6265, 28, 28, 1)"
            ]
          },
          "metadata": {
            "tags": []
          },
          "execution_count": 6
        }
      ]
    },
    {
      "metadata": {
        "id": "K7lrN_RHASdO",
        "colab_type": "code",
        "outputId": "fac68a92-ca16-42e5-e53d-b73fd56f2089",
        "colab": {
          "base_uri": "https://localhost:8080/",
          "height": 34
        }
      },
      "cell_type": "code",
      "source": [
        "test.shape"
      ],
      "execution_count": 7,
      "outputs": [
        {
          "output_type": "execute_result",
          "data": {
            "text/plain": [
              "(1028, 28, 28, 1)"
            ]
          },
          "metadata": {
            "tags": []
          },
          "execution_count": 7
        }
      ]
    },
    {
      "metadata": {
        "id": "L8rRK8EfdnYP",
        "colab_type": "text"
      },
      "cell_type": "markdown",
      "source": [
        "## Visualize data"
      ]
    },
    {
      "metadata": {
        "id": "uJwiICPxATRT",
        "colab_type": "code",
        "outputId": "e323a118-8431-46d2-b2c0-74509c3c73a0",
        "colab": {
          "base_uri": "https://localhost:8080/",
          "height": 582
        }
      },
      "cell_type": "code",
      "source": [
        "plt.figure(figsize=(10, 10))\n",
        "for i in range(5):\n",
        "  for j in range(5):\n",
        "    ax = plt.subplot(5, 5, 5 * i + j + 1)\n",
        "    plt.imshow(np.squeeze(train[np.random.randint(0, train.shape[0])]))\n",
        "    ax.set_xticklabels([])\n",
        "    ax.set_yticklabels([])\n",
        "    ax.set_xticks([])\n",
        "    ax.set_yticks([])"
      ],
      "execution_count": 8,
      "outputs": [
        {
          "output_type": "display_data",
          "data": {
            "image/png": "[encoded data removed]",
            "text/plain": [
              "<Figure size 720x720 with 25 Axes>"
            ]
          },
          "metadata": {
            "tags": []
          }
        }
      ]
    },
    {
      "metadata": {
        "id": "3PKJQ-9fdx3H",
        "colab_type": "text"
      },
      "cell_type": "markdown",
      "source": [
        "# Create model"
      ]
    },
    {
      "metadata": {
        "id": "vc-9XPX6mr6k",
        "colab_type": "code",
        "colab": {}
      },
      "cell_type": "code",
      "source": [
        "X = tf.placeholder(dtype='float', shape=[None, 28, 28, 1], name='X')\n",
        "Y = tf.placeholder(dtype='float', shape=[None, 28, 28, 1], name='Y')\n",
        "Y_flat = tf.reshape(Y, [-1, 28*28])\n",
        "\n",
        "n_gaussians = 4"
      ],
      "execution_count": 0,
      "outputs": []
    },
    {
      "metadata": {
        "id": "hSw408aYviQS",
        "colab_type": "code",
        "colab": {}
      },
      "cell_type": "code",
      "source": [
        "def encoder(X):\n",
        "\n",
        "  conv_1 = tf.layers.Conv2D(filters=32, kernel_size=(4, 4), strides=(2, 2), activation=tf.nn.relu, padding='same')(X)\n",
        "  # pool_1 = tf.layers.MaxPooling2D(pool_size=(2, 2), strides=(2, 2))(conv_1)\n",
        "  # bn_1 = tf.layers.BatchNormalization()(conv_1)\n",
        "\n",
        "  conv_2 = tf.layers.Conv2D(filters=32, kernel_size=(4, 4), strides=(2, 2), activation=tf.nn.relu, padding='same')(conv_1)\n",
        "  # pool_2 = tf.layers.MaxPooling2D(pool_size=(2, 2), strides=(2, 2))(conv_2)\n",
        "  # bn_2 = tf.layers.BatchNormalization()(conv_2)\n",
        "\n",
        "  conv_3 = tf.layers.Conv2D(filters=32, kernel_size=(3, 3), strides=(2, 2), activation=tf.nn.relu, padding='same')(conv_2)\n",
        "  # pool_3 = tf.layers.MaxPooling2D(pool_size=(2, 2), strides=(2, 2))(conv_3)\n",
        "  # bn_3 = tf.layers.BatchNormalization()(conv_3)\n",
        "  \n",
        "  print(conv_1)\n",
        "  print(conv_2)\n",
        "  print(conv_3)\n",
        "\n",
        "  dropout_1 = tf.layers.Dropout(rate=0.4)(conv_3)\n",
        "\n",
        "  flattened = tf.layers.Flatten()(dropout_1)\n",
        "  dense_1 = tf.layers.Dense(units=200)(flattened)\n",
        "  dense_2 = tf.layers.Dense(units=50)(dense_1)\n",
        "\n",
        "  mu = tf.layers.Dense(units=n_gaussians)(dense_2)\n",
        "  std = tf.layers.Dense(units=n_gaussians)(dense_2)\n",
        "    \n",
        "  return mu, std"
      ],
      "execution_count": 0,
      "outputs": []
    },
    {
      "metadata": {
        "id": "yA0Xb0OQ6rim",
        "colab_type": "code",
        "colab": {}
      },
      "cell_type": "code",
      "source": [
        "def decoder(z):\n",
        "  with tf.variable_scope('decoder', reuse=tf.AUTO_REUSE):\n",
        "    dense_1 = tf.layers.Dense(units=50, activation=tf.nn.relu, name='dense_1')(z)\n",
        "    dense_2 = tf.layers.Dense(units=512, activation=tf.nn.relu, name='dense_2')(dense_1)\n",
        "    unflatteded = tf.reshape(dense_2, [-1, 4, 4, 32], name='unflattened')\n",
        "\n",
        "    dconv_1 = tf.layers.Conv2DTranspose(filters=32, kernel_size=(4, 4), strides=(1, 1), activation=tf.nn.relu, name='dconv_1')(unflatteded)\n",
        "    dconv_2 = tf.layers.Conv2DTranspose(filters=32, kernel_size=(4, 4), strides=(2, 2), activation=tf.nn.relu, name='dconv_2')(dconv_1)\n",
        "\n",
        "    flattened = tf.layers.Flatten(name='flattened')(dconv_2)\n",
        "    dense_3 = tf.layers.Dense(units=28 * 28, activation=tf.nn.relu, name='dense_3')(flattened)\n",
        "    output = tf.reshape(dense_3, [-1, 28, 28, 1], name='output')\n",
        "\n",
        "    print(dconv_1)\n",
        "    print(dconv_2)\n",
        "    print(dense_3)\n",
        "    print(output)\n",
        "\n",
        "    return output"
      ],
      "execution_count": 0,
      "outputs": []
    },
    {
      "metadata": {
        "id": "NuM09I5K9M9r",
        "colab_type": "code",
        "outputId": "81248bf6-8f7c-4c05-a3c9-a1b2b5cab0c6",
        "colab": {
          "base_uri": "https://localhost:8080/",
          "height": 119
        }
      },
      "cell_type": "code",
      "source": [
        "mu, std = encoder(X)\n",
        "z = mu + std * tf.random.normal(tf.shape(mu))"
      ],
      "execution_count": 12,
      "outputs": [
        {
          "output_type": "stream",
          "text": [
            "WARNING:tensorflow:From /usr/local/lib/python3.6/dist-packages/tensorflow/python/framework/op_def_library.py:263: colocate_with (from tensorflow.python.framework.ops) is deprecated and will be removed in a future version.\n",
            "Instructions for updating:\n",
            "Colocations handled automatically by placer.\n",
            "Tensor(\"conv2d/Relu:0\", shape=(?, 14, 14, 32), dtype=float32)\n",
            "Tensor(\"conv2d_1/Relu:0\", shape=(?, 7, 7, 32), dtype=float32)\n",
            "Tensor(\"conv2d_2/Relu:0\", shape=(?, 4, 4, 32), dtype=float32)\n"
          ],
          "name": "stdout"
        }
      ]
    },
    {
      "metadata": {
        "id": "BZQ5iszyTkHF",
        "colab_type": "code",
        "colab": {
          "base_uri": "https://localhost:8080/",
          "height": 85
        },
        "outputId": "5e2c7ddc-87b6-4a3a-c55b-f8d1b1244efb"
      },
      "cell_type": "code",
      "source": [
        "output = decoder(z)"
      ],
      "execution_count": 13,
      "outputs": [
        {
          "output_type": "stream",
          "text": [
            "Tensor(\"decoder/dconv_1/Relu:0\", shape=(?, 7, 7, 32), dtype=float32)\n",
            "Tensor(\"decoder/dconv_2/Relu:0\", shape=(?, 16, 16, 32), dtype=float32)\n",
            "Tensor(\"decoder/dense_3/Relu:0\", shape=(?, 784), dtype=float32)\n",
            "Tensor(\"decoder/output:0\", shape=(?, 28, 28, 1), dtype=float32)\n"
          ],
          "name": "stdout"
        }
      ]
    },
    {
      "metadata": {
        "id": "GTCUk95OB5Ox",
        "colab_type": "text"
      },
      "cell_type": "markdown",
      "source": [
        "## Define loss\n",
        "\n",
        "Loss in VAE is a function of\n",
        "1. Reconstruction loss (Mean Squared Error between input image and image generated by the decoder)\n",
        "2. KL divergence with standard normal distribution"
      ]
    },
    {
      "metadata": {
        "id": "VN1bcuheRTnK",
        "colab_type": "code",
        "colab": {}
      },
      "cell_type": "code",
      "source": [
        "mse = tf.reduce_sum(tf.squared_difference(X, output))\n",
        "kld = 0.5 * tf.reduce_sum(tf.square(mu) + tf.square(std) - tf.log(1e-8 + tf.square(std)) - 1)\n",
        "loss = mse + kld\n",
        "optimizer = tf.train.AdamOptimizer(0.0004).minimize(loss)"
      ],
      "execution_count": 0,
      "outputs": []
    },
    {
      "metadata": {
        "id": "PnntGvFD8_am",
        "colab_type": "code",
        "colab": {}
      },
      "cell_type": "code",
      "source": [
        "batch_size = 1000\n",
        "num_epochs = 20000\n",
        "display_step = 1000\n",
        "log_step = 5\n",
        "save_step = 500\n",
        "\n",
        "total_samples_train = train.shape[0]\n",
        "total_samples_test = test.shape[0]\n",
        "num_batches_train = int(math.ceil(total_samples_train/batch_size))\n",
        "num_batches_test = int(math.ceil(total_samples_test/batch_size))\n",
        "\n",
        "train_loss = []\n",
        "test_loss = []"
      ],
      "execution_count": 0,
      "outputs": []
    },
    {
      "metadata": {
        "id": "Tuxzle576NuC",
        "colab_type": "code",
        "colab": {}
      },
      "cell_type": "code",
      "source": [
        "sess = tf.Session()\n",
        "saver = tf.train.Saver()\n",
        "sess.run(tf.global_variables_initializer())"
      ],
      "execution_count": 0,
      "outputs": []
    },
    {
      "metadata": {
        "id": "AhUBx_Sc5xzs",
        "colab_type": "code",
        "colab": {
          "base_uri": "https://localhost:8080/",
          "height": 428
        },
        "outputId": "0a7dbb23-2aa6-4c37-9f0a-465194f3e494"
      },
      "cell_type": "code",
      "source": [
        "for epoch in range(num_epochs):\n",
        "  loss_val = 0\n",
        "  for itr in range(num_batches_train):\n",
        "    start_idx = itr * batch_size\n",
        "    end_idx = min((itr + 1) * batch_size, total_samples_train)\n",
        "    \n",
        "    batch_x = train[start_idx:end_idx]\n",
        "    _, lv = sess.run([optimizer, loss], feed_dict={X:batch_x})\n",
        "    loss_val += lv\n",
        "    \n",
        "  loss_val /= total_samples_train\n",
        "  \n",
        "  if epoch % log_step == 0:\n",
        "    train_loss.append(loss_val)\n",
        "  if epoch % display_step == 0:\n",
        "    print('Epoch: {}, Loss: {}'.format(epoch, loss_val))\n",
        "  if epoch % save_step == 0:\n",
        "    saver.save(sess, base_path_model + 'model_' + str(epoch) + '.ckpt')"
      ],
      "execution_count": 17,
      "outputs": [
        {
          "output_type": "stream",
          "text": [
            "Epoch: 0, Loss: 78.93474691989226\n",
            "Epoch: 1000, Loss: 27.70819813697127\n",
            "Epoch: 2000, Loss: 26.230896161711893\n",
            "WARNING:tensorflow:From /usr/local/lib/python3.6/dist-packages/tensorflow/python/training/saver.py:966: remove_checkpoint (from tensorflow.python.training.checkpoint_management) is deprecated and will be removed in a future version.\n",
            "Instructions for updating:\n",
            "Use standard file APIs to delete files with this prefix.\n",
            "Epoch: 3000, Loss: 25.441799992517957\n",
            "Epoch: 4000, Loss: 24.75984519964585\n",
            "Epoch: 5000, Loss: 24.398102990323224\n",
            "Epoch: 6000, Loss: 23.934895391684957\n",
            "Epoch: 7000, Loss: 23.821703224760576\n",
            "Epoch: 8000, Loss: 23.45640135549681\n",
            "Epoch: 9000, Loss: 23.32479525700818\n",
            "Epoch: 10000, Loss: 23.2424949652085\n",
            "Epoch: 11000, Loss: 22.98977430728751\n",
            "Epoch: 12000, Loss: 22.854409261522346\n",
            "Epoch: 13000, Loss: 22.853816933110533\n",
            "Epoch: 14000, Loss: 22.599713032472067\n",
            "Epoch: 15000, Loss: 22.653596134901235\n",
            "Epoch: 16000, Loss: 22.653914979050278\n",
            "Epoch: 17000, Loss: 22.64206233165403\n",
            "Epoch: 18000, Loss: 22.464372381284917\n",
            "Epoch: 19000, Loss: 22.488223887669594\n"
          ],
          "name": "stdout"
        }
      ]
    },
    {
      "metadata": {
        "id": "7HK1ww3lx46l",
        "colab_type": "text"
      },
      "cell_type": "markdown",
      "source": [
        "### Plot training loss over epochs"
      ]
    },
    {
      "metadata": {
        "id": "M_jfsSYIwu1G",
        "colab_type": "code",
        "colab": {
          "base_uri": "https://localhost:8080/",
          "height": 298
        },
        "outputId": "bd9b7060-7fad-4a39-b022-6987c3d48fb7"
      },
      "cell_type": "code",
      "source": [
        "p = plt.plot(train_loss)\n",
        "plt.title('Training loss')"
      ],
      "execution_count": 18,
      "outputs": [
        {
          "output_type": "execute_result",
          "data": {
            "text/plain": [
              "Text(0.5, 1.0, 'Training loss')"
            ]
          },
          "metadata": {
            "tags": []
          },
          "execution_count": 18
        },
        {
          "output_type": "display_data",
          "data": {
            "image/png": "[encoded data removed]",
            "text/plain": [
              "<Figure size 432x288 with 1 Axes>"
            ]
          },
          "metadata": {
            "tags": []
          }
        }
      ]
    },
    {
      "metadata": {
        "id": "dF9xa40EbzD0",
        "colab_type": "text"
      },
      "cell_type": "markdown",
      "source": [
        "# Create new images"
      ]
    },
    {
      "metadata": {
        "id": "YJHfy-wgN7wd",
        "colab_type": "code",
        "colab": {
          "base_uri": "https://localhost:8080/",
          "height": 85
        },
        "outputId": "6c89d46d-afec-4949-d15f-adf38f0af70d"
      },
      "cell_type": "code",
      "source": [
        "Z = tf.placeholder(dtype='float', shape=[None, n_gaussians], name='Z')\n",
        "generate_image = decoder(Z)"
      ],
      "execution_count": 19,
      "outputs": [
        {
          "output_type": "stream",
          "text": [
            "Tensor(\"decoder_1/dconv_1/Relu:0\", shape=(?, 7, 7, 32), dtype=float32)\n",
            "Tensor(\"decoder_1/dconv_2/Relu:0\", shape=(?, 16, 16, 32), dtype=float32)\n",
            "Tensor(\"decoder_1/dense_3/Relu:0\", shape=(?, 784), dtype=float32)\n",
            "Tensor(\"decoder_1/output:0\", shape=(?, 28, 28, 1), dtype=float32)\n"
          ],
          "name": "stdout"
        }
      ]
    },
    {
      "metadata": {
        "id": "eUIOij24b6Y9",
        "colab_type": "text"
      },
      "cell_type": "markdown",
      "source": [
        "## Take a reference latent vector of a training image "
      ]
    },
    {
      "metadata": {
        "id": "Iqe3Oa2zVRPW",
        "colab_type": "code",
        "colab": {
          "base_uri": "https://localhost:8080/",
          "height": 34
        },
        "outputId": "4e9ca2d8-0350-4871-c483-d64e29b23de2"
      },
      "cell_type": "code",
      "source": [
        "ref_img = sess.run(z, feed_dict={X: train[:1]})[0]\n",
        "ref_img"
      ],
      "execution_count": 20,
      "outputs": [
        {
          "output_type": "execute_result",
          "data": {
            "text/plain": [
              "array([-0.61722755, -0.7063283 ,  0.7145053 , -0.19097525], dtype=float32)"
            ]
          },
          "metadata": {
            "tags": []
          },
          "execution_count": 20
        }
      ]
    },
    {
      "metadata": {
        "id": "-hXaf0KHcJMm",
        "colab_type": "text"
      },
      "cell_type": "markdown",
      "source": [
        "## Change each dimension by keeping others fixed and observe the effect of each dimension"
      ]
    },
    {
      "metadata": {
        "id": "M4PN9wybcETe",
        "colab_type": "text"
      },
      "cell_type": "markdown",
      "source": [
        "Helper function to plot images"
      ]
    },
    {
      "metadata": {
        "id": "sTr9fVAUXA_d",
        "colab_type": "code",
        "colab": {}
      },
      "cell_type": "code",
      "source": [
        "def plot_images(images):\n",
        "  n = len(images)\n",
        "  plt.figure(figsize=(20, 20 * n))\n",
        "  for i in range(n):\n",
        "      ax = plt.subplot(1, n, i + 1)\n",
        "      plt.imshow(images[i])\n",
        "      ax.set_xticklabels([])\n",
        "      ax.set_yticklabels([])\n",
        "      ax.set_xticks([])\n",
        "      ax.set_yticks([])"
      ],
      "execution_count": 0,
      "outputs": []
    },
    {
      "metadata": {
        "id": "mTNrleY_mBQK",
        "colab_type": "text"
      },
      "cell_type": "markdown",
      "source": [
        "Change one dimension at a time keeping others fixed to observe the effect"
      ]
    },
    {
      "metadata": {
        "id": "gcoPWYBwVZwx",
        "colab_type": "code",
        "colab": {
          "base_uri": "https://localhost:8080/",
          "height": 289
        },
        "outputId": "ddf733f3-9315-458e-e264-974cba04db76"
      },
      "cell_type": "code",
      "source": [
        "num_tweaked_images = 20\n",
        "for dim in range(n_gaussians):\n",
        "  tweaked_vectors = []\n",
        "  for new_val in np.linspace(-2, 2, num_tweaked_images):\n",
        "    tweaked_vec = ref_img.copy()\n",
        "    tweaked_vec[dim] = new_val\n",
        "    tweaked_vectors.append(tweaked_vec)\n",
        "  gen_images = sess.run(generate_image, feed_dict={Z: np.array(tweaked_vectors)})\n",
        "  plot_images(gen_images.reshape([-1, 28, 28]))"
      ],
      "execution_count": 23,
      "outputs": [
        {
          "output_type": "display_data",
          "data": {
            "image/png": "[encoded data removed]",
            "text/plain": [
              "<Figure size 1440x28800 with 20 Axes>"
            ]
          },
          "metadata": {
            "tags": []
          }
        },
        {
          "output_type": "display_data",
          "data": {
            "image/png": "[encoded data removed]",
            "text/plain": [
              "<Figure size 1440x28800 with 20 Axes>"
            ]
          },
          "metadata": {
            "tags": []
          }
        },
        {
          "output_type": "display_data",
          "data": {
            "image/png": "[encoded data removed]",
            "text/plain": [
              "<Figure size 1440x28800 with 20 Axes>"
            ]
          },
          "metadata": {
            "tags": []
          }
        },
        {
          "output_type": "display_data",
          "data": {
            "image/png": "[encoded data removed]",
            "text/plain": [
              "<Figure size 1440x28800 with 20 Axes>"
            ]
          },
          "metadata": {
            "tags": []
          }
        }
      ]
    },
    {
      "metadata": {
        "id": "hflMWMLAWVNl",
        "colab_type": "text"
      },
      "cell_type": "markdown",
      "source": [
        "# Observations\n",
        "\n",
        "Looking at the generated images, the network learns parameters which control \n",
        "\n",
        "1. Thickness\n",
        "2. Rotation\n",
        "3. Length and shape of top horizontal line\n",
        "4. Angle between \n",
        "5. Small horizontal line in the middle"
      ]
    }
  ]
}