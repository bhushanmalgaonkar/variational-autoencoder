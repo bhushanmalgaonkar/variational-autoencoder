{
  "nbformat": 4,
  "nbformat_minor": 0,
  "metadata": {
    "colab": {
      "name": "variational-autoencoder-poor-sevens.ipynb",
      "version": "0.3.2",
      "provenance": []
    },
    "language_info": {
      "codemirror_mode": {
        "name": "ipython",
        "version": 3
      },
      "file_extension": ".py",
      "mimetype": "text/x-python",
      "name": "python",
      "nbconvert_exporter": "python",
      "pygments_lexer": "ipython3",
      "version": "3.6.4"
    },
    "kernelspec": {
      "name": "python3",
      "display_name": "Python 3"
    },
    "accelerator": "GPU"
  },
  "cells": [
    {
      "metadata": {
        "id": "m4_NSzYW9wWp",
        "colab_type": "code",
        "outputId": "58b4acfd-8545-4fdd-b4c2-4e9ecd153629",
        "colab": {
          "base_uri": "https://localhost:8080/",
          "height": 34
        }
      },
      "cell_type": "code",
      "source": [
        "from google.colab import drive\n",
        "drive.mount('/content/drive', force_remount=True)"
      ],
      "execution_count": 2,
      "outputs": [
        {
          "output_type": "stream",
          "text": [
            "Mounted at /content/drive\n"
          ],
          "name": "stdout"
        }
      ]
    },
    {
      "metadata": {
        "id": "HPi1RTgCANxK",
        "colab_type": "code",
        "colab": {}
      },
      "cell_type": "code",
      "source": [
        "import pickle\n",
        "import math"
      ],
      "execution_count": 0,
      "outputs": []
    },
    {
      "metadata": {
        "id": "oNhdB6PXAOia",
        "colab_type": "code",
        "colab": {}
      },
      "cell_type": "code",
      "source": [
        "import numpy as np\n",
        "import tensorflow as tf\n",
        "import matplotlib.pyplot as plt\n",
        "%matplotlib inline"
      ],
      "execution_count": 0,
      "outputs": []
    },
    {
      "metadata": {
        "id": "GzhH1fi9-QOp",
        "colab_type": "code",
        "colab": {}
      },
      "cell_type": "code",
      "source": [
        "base_path = './drive/My Drive/Colab Notebooks/hw4/variational-autoencoder/'\n",
        "train_path = base_path + 'hw4_tr7.pkl'\n",
        "test_path = base_path + 'hw4_te7.pkl'\n",
        "\n",
        "base_path_model = base_path + 'model/'"
      ],
      "execution_count": 0,
      "outputs": []
    },
    {
      "metadata": {
        "id": "qcfMdGK6-uLo",
        "colab_type": "code",
        "colab": {}
      },
      "cell_type": "code",
      "source": [
        "with open(train_path, 'rb') as f:\n",
        "  train = pickle.load(f)\n",
        "\n",
        "with open(test_path, 'rb') as f:\n",
        "  test = pickle.load(f)"
      ],
      "execution_count": 0,
      "outputs": []
    },
    {
      "metadata": {
        "id": "ayzxfoIXAIp9",
        "colab_type": "code",
        "outputId": "6cee63f2-05f3-4408-e997-73cd57694fed",
        "colab": {
          "base_uri": "https://localhost:8080/",
          "height": 34
        }
      },
      "cell_type": "code",
      "source": [
        "train.shape"
      ],
      "execution_count": 7,
      "outputs": [
        {
          "output_type": "execute_result",
          "data": {
            "text/plain": [
              "(6265, 28, 28)"
            ]
          },
          "metadata": {
            "tags": []
          },
          "execution_count": 7
        }
      ]
    },
    {
      "metadata": {
        "id": "K7lrN_RHASdO",
        "colab_type": "code",
        "outputId": "71d3ba06-b3bf-4fc4-f01a-e49ac83fda63",
        "colab": {
          "base_uri": "https://localhost:8080/",
          "height": 34
        }
      },
      "cell_type": "code",
      "source": [
        "test.shape"
      ],
      "execution_count": 8,
      "outputs": [
        {
          "output_type": "execute_result",
          "data": {
            "text/plain": [
              "(1028, 28, 28)"
            ]
          },
          "metadata": {
            "tags": []
          },
          "execution_count": 8
        }
      ]
    },
    {
      "metadata": {
        "id": "uJwiICPxATRT",
        "colab_type": "code",
        "outputId": "33bf4602-0d67-44d3-f79f-d52e0d617ada",
        "colab": {
          "base_uri": "https://localhost:8080/",
          "height": 582
        }
      },
      "cell_type": "code",
      "source": [
        "plt.figure(figsize=(10, 10))\n",
        "for i in range(5):\n",
        "  for j in range(5):\n",
        "    ax = plt.subplot(5, 5, 5 * i + j + 1)\n",
        "    plt.imshow(train[np.random.randint(0, train.shape[0])])\n",
        "    ax.set_xticklabels([])\n",
        "    ax.set_yticklabels([])\n",
        "    ax.set_xticks([])\n",
        "    ax.set_yticks([])"
      ],
      "execution_count": 9,
      "outputs": [
        {
          "output_type": "display_data",
          "data": {
            "image/png": "[encoded data removed]",
            "text/plain": [
              "<Figure size 720x720 with 25 Axes>"
            ]
          },
          "metadata": {
            "tags": []
          }
        }
      ]
    },
    {
      "metadata": {
        "id": "vc-9XPX6mr6k",
        "colab_type": "code",
        "colab": {}
      },
      "cell_type": "code",
      "source": [
        "X = tf.placeholder(dtype='float', shape=[None, 28, 28, 1], name='X')\n",
        "Y = tf.placeholder(dtype='float', shape=[None, 28, 28, 1], name='Y')\n",
        "\n",
        "n_gaussians = 5"
      ],
      "execution_count": 0,
      "outputs": []
    },
    {
      "metadata": {
        "id": "hSw408aYviQS",
        "colab_type": "code",
        "colab": {}
      },
      "cell_type": "code",
      "source": [
        "def encoder(X):\n",
        "\n",
        "  conv_1 = tf.layers.Conv2D(filters=32, kernel_size=(4, 4), strides=(2, 2), activation=tf.nn.relu, padding='same')(X)\n",
        "  # pool_1 = tf.layers.MaxPooling2D(pool_size=(2, 2), strides=(2, 2))(conv_1)\n",
        "  # bn_1 = tf.layers.BatchNormalization()(conv_1)\n",
        "\n",
        "  conv_2 = tf.layers.Conv2D(filters=32, kernel_size=(4, 4), strides=(2, 2), activation=tf.nn.relu, padding='same')(conv_1)\n",
        "  # pool_2 = tf.layers.MaxPooling2D(pool_size=(2, 2), strides=(2, 2))(conv_2)\n",
        "  # bn_2 = tf.layers.BatchNormalization()(conv_2)\n",
        "\n",
        "  conv_3 = tf.layers.Conv2D(filters=32, kernel_size=(3, 3), strides=(2, 2), activation=tf.nn.relu, padding='same')(conv_2)\n",
        "  # pool_3 = tf.layers.MaxPooling2D(pool_size=(2, 2), strides=(2, 2))(conv_3)\n",
        "  # bn_3 = tf.layers.BatchNormalization()(conv_3)\n",
        "\n",
        "  dropout_1 = tf.layers.Dropout(rate=0.4)(conv_3)\n",
        "\n",
        "  flattened = tf.layers.Flatten()(dropout_1)\n",
        "  dense_1 = tf.layers.Dense(units=n_gaussians * 2)(flattened)\n",
        "\n",
        "  # use first half as mu\n",
        "  mu = dense_1[:, :n_gaussians]\n",
        "\n",
        "  # use 2nd half as std, standard deviation has to be positive\n",
        "  std = tf.nn.softplus(dense_1[:, n_gaussians:])\n",
        "  \n",
        "  return mu, std"
      ],
      "execution_count": 0,
      "outputs": []
    },
    {
      "metadata": {
        "id": "yA0Xb0OQ6rim",
        "colab_type": "code",
        "outputId": "e2426aff-354d-4be5-c90d-fd9e6280b76a",
        "colab": {
          "base_uri": "https://localhost:8080/",
          "height": 34
        }
      },
      "cell_type": "code",
      "source": [
        "def decoder(Z):\n",
        "  dense_1 = tf.layers.Dense(units=512, activation=tf.nn.relu)(Z)\n",
        "  dense_2 = tf.layers.Dense(units=4 * 4 * 32, activation=tf.nn.relu)(dense_1)\n",
        "  reshaped = tf.reshape(dense_2, [-1, 4, 4, 32])\n",
        "  dconv_1 = tf.layers.Conv2DTranspose(filters=32, kernel_size=(3, 3), strides=(2, 2), activation=tf.nn.relu)(reshaped)\n",
        "  dconv_2 = tf.layers.Conv2DTranspose(filters=32, kernel_size=(4, 4), strides=(2, 2), activation=tf.nn.relu)(dconv_1)\n",
        "  flattened_2 = tf.layers.Flatten()(dconv_2)\n",
        "  dense_3 = tf.layers.Dense(units=28 * 28, activation=tf.nn.relu)(flattened)\n",
        "\n",
        "  \n"
      ],
      "execution_count": 38,
      "outputs": [
        {
          "output_type": "execute_result",
          "data": {
            "text/plain": [
              "<tf.Tensor 'flatten_3/Reshape:0' shape=(?, 512) dtype=float32>"
            ]
          },
          "metadata": {
            "tags": []
          },
          "execution_count": 38
        }
      ]
    },
    {
      "metadata": {
        "id": "NuM09I5K9M9r",
        "colab_type": "code",
        "outputId": "742bc9d1-0a5f-41f6-d1d9-fe64f24615e6",
        "colab": {
          "base_uri": "https://localhost:8080/",
          "height": 68
        }
      },
      "cell_type": "code",
      "source": [
        "print(conv_1)\n",
        "print(conv_2)\n",
        "print(conv_3)"
      ],
      "execution_count": 39,
      "outputs": [
        {
          "output_type": "stream",
          "text": [
            "Tensor(\"conv2d_6/Relu:0\", shape=(?, 14, 14, 32), dtype=float32)\n",
            "Tensor(\"conv2d_7/Relu:0\", shape=(?, 7, 7, 32), dtype=float32)\n",
            "Tensor(\"conv2d_8/Relu:0\", shape=(?, 4, 4, 32), dtype=float32)\n"
          ],
          "name": "stdout"
        }
      ]
    },
    {
      "metadata": {
        "id": "vWGW4cRHwIvs",
        "colab_type": "code",
        "outputId": "a70581d5-8997-4222-eca4-7daaf162192d",
        "colab": {
          "base_uri": "https://localhost:8080/",
          "height": 34
        }
      },
      "cell_type": "code",
      "source": [
        "mu"
      ],
      "execution_count": 40,
      "outputs": [
        {
          "output_type": "execute_result",
          "data": {
            "text/plain": [
              "<tf.Tensor 'strided_slice_4:0' shape=(?, 5) dtype=float32>"
            ]
          },
          "metadata": {
            "tags": []
          },
          "execution_count": 40
        }
      ]
    },
    {
      "metadata": {
        "id": "bW0wSSe1wOwS",
        "colab_type": "code",
        "outputId": "c0512787-e6eb-444a-c886-227f44ea1eec",
        "colab": {
          "base_uri": "https://localhost:8080/",
          "height": 34
        }
      },
      "cell_type": "code",
      "source": [
        "std"
      ],
      "execution_count": 41,
      "outputs": [
        {
          "output_type": "execute_result",
          "data": {
            "text/plain": [
              "<tf.Tensor 'Softplus_2:0' shape=(?, 5) dtype=float32>"
            ]
          },
          "metadata": {
            "tags": []
          },
          "execution_count": 41
        }
      ]
    },
    {
      "metadata": {
        "id": "1_0IruDq1bWU",
        "colab_type": "code",
        "colab": {}
      },
      "cell_type": "code",
      "source": [
        "# take sample\n",
        "z = mu + std * tf.random.normal(tf.shape(mu))"
      ],
      "execution_count": 0,
      "outputs": []
    },
    {
      "metadata": {
        "id": "A4D3RNIV5xH-",
        "colab_type": "code",
        "outputId": "f2a1b4a3-8014-4577-d80e-041434f8d047",
        "colab": {
          "base_uri": "https://localhost:8080/",
          "height": 34
        }
      },
      "cell_type": "code",
      "source": [
        "z"
      ],
      "execution_count": 43,
      "outputs": [
        {
          "output_type": "execute_result",
          "data": {
            "text/plain": [
              "<tf.Tensor 'add_3:0' shape=(?, 5) dtype=float32>"
            ]
          },
          "metadata": {
            "tags": []
          },
          "execution_count": 43
        }
      ]
    },
    {
      "metadata": {
        "id": "dp6LXpAxBelW",
        "colab_type": "code",
        "outputId": "d945e0c9-7eb9-4420-e3eb-106d37dacd4d",
        "colab": {
          "base_uri": "https://localhost:8080/",
          "height": 34
        }
      },
      "cell_type": "code",
      "source": [
        "dense_4 = tf.layers.Dense(units=28 * 28, activation=tf.nn.relu)(flattened)\n",
        "dense_4"
      ],
      "execution_count": 53,
      "outputs": [
        {
          "output_type": "execute_result",
          "data": {
            "text/plain": [
              "<tf.Tensor 'dense_10/Relu:0' shape=(?, 784) dtype=float32>"
            ]
          },
          "metadata": {
            "tags": []
          },
          "execution_count": 53
        }
      ]
    },
    {
      "metadata": {
        "id": "hEpVvgcWBwmQ",
        "colab_type": "code",
        "outputId": "818e7ead-3903-4d3e-ff6a-b815f20ef64b",
        "colab": {
          "base_uri": "https://localhost:8080/",
          "height": 34
        }
      },
      "cell_type": "code",
      "source": [
        "output = tf.reshape(dense_4, [-1, 28, 28, 1])\n",
        "output"
      ],
      "execution_count": 54,
      "outputs": [
        {
          "output_type": "execute_result",
          "data": {
            "text/plain": [
              "<tf.Tensor 'Reshape_3:0' shape=(?, 28, 28, 1) dtype=float32>"
            ]
          },
          "metadata": {
            "tags": []
          },
          "execution_count": 54
        }
      ]
    },
    {
      "metadata": {
        "id": "GTCUk95OB5Ox",
        "colab_type": "code",
        "colab": {}
      },
      "cell_type": "code",
      "source": [
        ""
      ],
      "execution_count": 0,
      "outputs": []
    }
  ]
}